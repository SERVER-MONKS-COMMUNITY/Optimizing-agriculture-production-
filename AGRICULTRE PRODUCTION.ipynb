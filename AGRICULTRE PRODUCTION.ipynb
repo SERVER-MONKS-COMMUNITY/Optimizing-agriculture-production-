{
 "cells": [
  {
   "cell_type": "code",
   "execution_count": 1,
   "metadata": {},
   "outputs": [
    {
     "name": "stderr",
     "output_type": "stream",
     "text": [
      "Matplotlib is building the font cache; this may take a moment.\n"
     ]
    }
   ],
   "source": [
    "import numpy as np \n",
    "import pandas as pd\n",
    "import matplotlib.pyplot as plt\n",
    "import seaborn as sns \n",
    "from ipywidgets import interact \n"
   ]
  },
  {
   "cell_type": "code",
   "execution_count": 2,
   "metadata": {},
   "outputs": [],
   "source": [
    "data = pd.read_csv('data.csv')"
   ]
  },
  {
   "cell_type": "code",
   "execution_count": 3,
   "metadata": {},
   "outputs": [
    {
     "name": "stdout",
     "output_type": "stream",
     "text": [
      "the shape of the data set  (2200, 8)\n"
     ]
    }
   ],
   "source": [
    "print (\"the shape of the data set \", data.shape)"
   ]
  },
  {
   "cell_type": "code",
   "execution_count": 5,
   "metadata": {
    "scrolled": true
   },
   "outputs": [
    {
     "data": {
      "text/html": [
       "<div>\n",
       "<style scoped>\n",
       "    .dataframe tbody tr th:only-of-type {\n",
       "        vertical-align: middle;\n",
       "    }\n",
       "\n",
       "    .dataframe tbody tr th {\n",
       "        vertical-align: top;\n",
       "    }\n",
       "\n",
       "    .dataframe thead th {\n",
       "        text-align: right;\n",
       "    }\n",
       "</style>\n",
       "<table border=\"1\" class=\"dataframe\">\n",
       "  <thead>\n",
       "    <tr style=\"text-align: right;\">\n",
       "      <th></th>\n",
       "      <th>N</th>\n",
       "      <th>P</th>\n",
       "      <th>K</th>\n",
       "      <th>temperature</th>\n",
       "      <th>humidity</th>\n",
       "      <th>ph</th>\n",
       "      <th>rainfall</th>\n",
       "      <th>label</th>\n",
       "    </tr>\n",
       "  </thead>\n",
       "  <tbody>\n",
       "    <tr>\n",
       "      <th>0</th>\n",
       "      <td>90</td>\n",
       "      <td>42</td>\n",
       "      <td>43</td>\n",
       "      <td>20.879744</td>\n",
       "      <td>82.002744</td>\n",
       "      <td>6.502985</td>\n",
       "      <td>202.935536</td>\n",
       "      <td>rice</td>\n",
       "    </tr>\n",
       "    <tr>\n",
       "      <th>1</th>\n",
       "      <td>85</td>\n",
       "      <td>58</td>\n",
       "      <td>41</td>\n",
       "      <td>21.770462</td>\n",
       "      <td>80.319644</td>\n",
       "      <td>7.038096</td>\n",
       "      <td>226.655537</td>\n",
       "      <td>rice</td>\n",
       "    </tr>\n",
       "    <tr>\n",
       "      <th>2</th>\n",
       "      <td>60</td>\n",
       "      <td>55</td>\n",
       "      <td>44</td>\n",
       "      <td>23.004459</td>\n",
       "      <td>82.320763</td>\n",
       "      <td>7.840207</td>\n",
       "      <td>263.964248</td>\n",
       "      <td>rice</td>\n",
       "    </tr>\n",
       "    <tr>\n",
       "      <th>3</th>\n",
       "      <td>74</td>\n",
       "      <td>35</td>\n",
       "      <td>40</td>\n",
       "      <td>26.491096</td>\n",
       "      <td>80.158363</td>\n",
       "      <td>6.980401</td>\n",
       "      <td>242.864034</td>\n",
       "      <td>rice</td>\n",
       "    </tr>\n",
       "    <tr>\n",
       "      <th>4</th>\n",
       "      <td>78</td>\n",
       "      <td>42</td>\n",
       "      <td>42</td>\n",
       "      <td>20.130175</td>\n",
       "      <td>81.604873</td>\n",
       "      <td>7.628473</td>\n",
       "      <td>262.717340</td>\n",
       "      <td>rice</td>\n",
       "    </tr>\n",
       "  </tbody>\n",
       "</table>\n",
       "</div>"
      ],
      "text/plain": [
       "    N   P   K  temperature   humidity        ph    rainfall label\n",
       "0  90  42  43    20.879744  82.002744  6.502985  202.935536  rice\n",
       "1  85  58  41    21.770462  80.319644  7.038096  226.655537  rice\n",
       "2  60  55  44    23.004459  82.320763  7.840207  263.964248  rice\n",
       "3  74  35  40    26.491096  80.158363  6.980401  242.864034  rice\n",
       "4  78  42  42    20.130175  81.604873  7.628473  262.717340  rice"
      ]
     },
     "execution_count": 5,
     "metadata": {},
     "output_type": "execute_result"
    }
   ],
   "source": [
    "data.head()"
   ]
  },
  {
   "cell_type": "code",
   "execution_count": 6,
   "metadata": {},
   "outputs": [
    {
     "data": {
      "text/plain": [
       "N              0\n",
       "P              0\n",
       "K              0\n",
       "temperature    0\n",
       "humidity       0\n",
       "ph             0\n",
       "rainfall       0\n",
       "label          0\n",
       "dtype: int64"
      ]
     },
     "execution_count": 6,
     "metadata": {},
     "output_type": "execute_result"
    }
   ],
   "source": [
    "data.isnull().sum()"
   ]
  },
  {
   "cell_type": "code",
   "execution_count": 7,
   "metadata": {
    "scrolled": true
   },
   "outputs": [
    {
     "data": {
      "text/plain": [
       "mothbeans      100\n",
       "muskmelon      100\n",
       "papaya         100\n",
       "lentil         100\n",
       "coconut        100\n",
       "apple          100\n",
       "watermelon     100\n",
       "chickpea       100\n",
       "coffee         100\n",
       "orange         100\n",
       "mungbean       100\n",
       "kidneybeans    100\n",
       "maize          100\n",
       "mango          100\n",
       "jute           100\n",
       "banana         100\n",
       "grapes         100\n",
       "rice           100\n",
       "cotton         100\n",
       "pomegranate    100\n",
       "pigeonpeas     100\n",
       "blackgram      100\n",
       "Name: label, dtype: int64"
      ]
     },
     "execution_count": 7,
     "metadata": {},
     "output_type": "execute_result"
    }
   ],
   "source": [
    "#now lets check the cross present in the dataset \n",
    "data['label'].value_counts()"
   ]
  },
  {
   "cell_type": "code",
   "execution_count": 8,
   "metadata": {},
   "outputs": [
    {
     "name": "stdout",
     "output_type": "stream",
     "text": [
      "Average ratio of the nitrogen in the soil:50.55\n",
      "Average ratio of the phosphorous in the soil:53.36\n",
      "Average ratio of the potassium in the soil:48.15\n",
      "Average temperature in celsius:25.62\n",
      "Average relative humidity in % :71.48\n",
      "Average ph value of the soil  :6.47\n",
      "Average rainfall in mm :103.46\n"
     ]
    }
   ],
   "source": [
    "print(\"Average ratio of the nitrogen in the soil:{0:.2f}\".format(data['N'].mean()))\n",
    "print(\"Average ratio of the phosphorous in the soil:{0:.2f}\".format(data['P'].mean()))\n",
    "print(\"Average ratio of the potassium in the soil:{0:.2f}\".format(data['K'].mean()))\n",
    "print(\"Average temperature in celsius:{0:.2f}\".format(data['temperature'].mean()))\n",
    "print(\"Average relative humidity in % :{0:.2f}\".format(data['humidity'].mean()))\n",
    "print(\"Average ph value of the soil  :{0:.2f}\".format(data['ph'].mean()))\n",
    "print(\"Average rainfall in mm :{0:.2f}\".format(data['rainfall'].mean()))"
   ]
  },
  {
   "cell_type": "code",
   "execution_count": 22,
   "metadata": {},
   "outputs": [
    {
     "data": {
      "application/vnd.jupyter.widget-view+json": {
       "model_id": "8156c4f9c49d413cb195a8e78dc9c772",
       "version_major": 2,
       "version_minor": 0
      },
      "text/plain": [
       "interactive(children=(Dropdown(description='crops', options=('mothbeans', 'muskmelon', 'papaya', 'lentil', 'co…"
      ]
     },
     "metadata": {},
     "output_type": "display_data"
    },
    {
     "name": "stdout",
     "output_type": "stream",
     "text": [
      ".....................................\n",
      "Statistics for Nitrogen\n"
     ]
    },
    {
     "ename": "NameError",
     "evalue": "name 'x' is not defined",
     "output_type": "error",
     "traceback": [
      "\u001b[1;31m---------------------------------------------------------------------------\u001b[0m",
      "\u001b[1;31mNameError\u001b[0m                                 Traceback (most recent call last)",
      "\u001b[1;32m<ipython-input-22-9e58687341e4>\u001b[0m in \u001b[0;36m<module>\u001b[1;34m\u001b[0m\n\u001b[0;32m      9\u001b[0m \u001b[0mprint\u001b[0m\u001b[1;33m(\u001b[0m\u001b[1;34m\"Statistics for Nitrogen\"\u001b[0m\u001b[1;33m)\u001b[0m\u001b[1;33m\u001b[0m\u001b[1;33m\u001b[0m\u001b[0m\n\u001b[0;32m     10\u001b[0m \u001b[1;33m\u001b[0m\u001b[0m\n\u001b[1;32m---> 11\u001b[1;33m \u001b[0mprint\u001b[0m\u001b[1;33m(\u001b[0m\u001b[1;34m\"Minimum Nitrigen required :\"\u001b[0m\u001b[1;33m,\u001b[0m \u001b[0mx\u001b[0m\u001b[1;33m[\u001b[0m\u001b[1;34m'N'\u001b[0m\u001b[1;33m]\u001b[0m\u001b[1;33m.\u001b[0m\u001b[0mmin\u001b[0m\u001b[1;33m(\u001b[0m\u001b[1;33m)\u001b[0m\u001b[1;33m)\u001b[0m\u001b[1;33m\u001b[0m\u001b[1;33m\u001b[0m\u001b[0m\n\u001b[0m\u001b[0;32m     12\u001b[0m \u001b[1;33m\u001b[0m\u001b[0m\n\u001b[0;32m     13\u001b[0m \u001b[0mprint\u001b[0m\u001b[1;33m(\u001b[0m\u001b[1;34m\"Average Nitrogen required :\"\u001b[0m\u001b[1;33m,\u001b[0m \u001b[0mx\u001b[0m\u001b[1;33m[\u001b[0m\u001b[1;34m'N'\u001b[0m\u001b[1;33m]\u001b[0m\u001b[1;33m.\u001b[0m\u001b[0mmean\u001b[0m\u001b[1;33m(\u001b[0m\u001b[1;33m)\u001b[0m\u001b[1;33m)\u001b[0m\u001b[1;33m\u001b[0m\u001b[1;33m\u001b[0m\u001b[0m\n",
      "\u001b[1;31mNameError\u001b[0m: name 'x' is not defined"
     ]
    }
   ],
   "source": [
    "#statistics for each crop\n",
    "@interact\n",
    "\n",
    "def summary(crops =list (data[ 'label'].value_counts().index)):\n",
    "    x = data[data['label'] == crops]\n",
    "\n",
    "print(\".....................................\")\n",
    "\n",
    "print(\"Statistics for Nitrogen\")\n",
    "\n",
    "print(\"Minimum Nitrigen required :\", x['N'].min())\n",
    "\n",
    "print(\"Average Nitrogen required :\", x['N'].mean())\n",
    "\n",
    "print(\"Maximum Nitrogen required :\", x['N'].max())\n",
    "print(\".........................\")\n",
    "\n",
    "\n",
    "print(\"Statistics for Phosphorous\")\n",
    "\n",
    "\n",
    "print(\"Minimum Phosphorous required :\", x['P'].min())\n",
    "\n",
    "print(\"Average Phosphorous required :\", x['P'].mean()) \n",
    "print(\"Maximum Phosphorous required \", x['P'].max())\n",
    "\n",
    "print(\"Statistics for Potassium\")\n",
    "\n",
    "print(\"Minimum Potassium required :\", x['K'].min())\n",
    "\n",
    "print(\"Average Potassium required :\", x['K'].mean())\n",
    "print(\"Maximum Potassium required :\", x['K'].max())\n",
    "\n",
    "print(\"............................\")\n",
    "\n",
    "print(\"Statistics for Temperature\")\n",
    "\n",
    "\n",
    "\n",
    "print(\"Minimum Temperature required: (0:.2f)\". format (x['temperature'].min()))\n",
    "print(\"Average Temperature required: (0:.2f)\". format (x['temperature'].mean())) \n",
    "print(\"Maximum Temperature required: (0:.2f}\" .format(x['temperature'].max()))\n",
    "print(\"...................................\")\n",
    "print(\"Statistics for Humidity\")\n",
    "\n",
    "print(\"Minimun Humidity required: (0:2)\".format (x['humidity'].min())) \n",
    "print(\"Average Humidity required (8.2f)\".format(x['humidity'].mean()))\n",
    "\n",
    "print(\"Maximum Humidity required: (0.2f)\".format(x['humidity'].max()))\n",
    "\n",
    "print(\"------------\")\n",
    "print(\"Statistics for PH\")\n",
    "\n",
    "print(\"Minimun PH required (8.2f)\". format(x['ph'].min())) \n",
    "print(\"Average PH required (0:2)\" .format(x[ 'ph'].mean()))\n",
    "\n",
    "print(\"Maximun PH required (8.2f)\" .format(x[ 'ph'].max()))\n",
    "\n",
    "print(\"Statistics for Reinfall\")\n",
    "\n",
    "print(\"Minimum Rainfall required (0.2f) \".format(x['rainfall' ].min()))\n",
    "print(\"Average Rainfall required (0.2f)\".format(x['rainfall' ].mean()))\n",
    "\n",
    "print(\"Maximum Rainfall required (0:2)\".format(x['rainfall' ].max()))\n"
   ]
  },
  {
   "cell_type": "code",
   "execution_count": 24,
   "metadata": {},
   "outputs": [
    {
     "data": {
      "application/vnd.jupyter.widget-view+json": {
       "model_id": "42d5096f0479479d8bdecded8a9b94ac",
       "version_major": 2,
       "version_minor": 0
      },
      "text/plain": [
       "interactive(children=(Dropdown(description='condition', options=('N', 'P', 'K', 'Temprature', 'ph', 'humidity'…"
      ]
     },
     "metadata": {},
     "output_type": "display_data"
    }
   ],
   "source": [
    "# Lets compare the Average Requirement for each crops with average  conditions\n",
    "\n",
    "@interact\n",
    "def compare(condition =['N','P','K','Temprature','ph','humidity','rainfall']):\n",
    "    print(\"Avrage Value for\", conditions, \"is{0:.2f}\".format(data[conditions].mean()))\n",
    "    print(\"-------------------------------------------\")\n",
    "    print(\"Rice : {0:.2f}\".format(data[data['label'] == 'rice'][conditions].mean()))\n",
    "    print(\"Black Grams : {0:.2f}\".format(data[data['label'] == 'blackgram'][conditions].mean()))\n",
    "    print(\"Banana : {0:.2f}\".format(data[data['label'] == 'banana'][conditions].mean()))\n",
    "    print(\"jute : {0:.2f}\".format(data[data['label'] == 'jute'][conditions].mean()))\n",
    "    print(\"Cocount : {0:.2f}\".format(data[data['label'] == 'coconut'][conditions].mean()))\n",
    "    print(\"Apple : {0:.2f}\".format(data[data['label'] == 'apple'][conditions].mean()))\n",
    "    print(\"papaya : {0:.2f}\".format(data[data['label'] == 'papaya'][conditions].mean()))\n",
    "    print(\"Muskmelon : {0:.2f}\".format(data[data['label'] == 'muskmelon'][conditions].mean()))\n",
    "    print(\"Graps : {0:.2f}\".format(data[data['label'] == 'graps'][conditions].mean()))\n",
    "    print(\"Watermelon : {0:.2f}\".format(data[data['label'] == 'watermelon'][conditions].mean()))\n",
    "    print(\"Kidney Beans : {0:.2f}\".format(data[data['label'] == 'kidneybeans'][conditions].mean()))\n",
    "    print(\"Mung Beans : {0:.2f}\".format(data[data['label'] == 'mungbean'][conditions].mean()))\n",
    "    print(\"Oranges : {0:.2f}\".format(data[data['label'] == 'oranges'][conditions].mean()))\n",
    "    print(\"Chick peas : {0:.2f}\".format(data[data['label'] == 'chickpeas'][conditions].mean()))\n",
    "    print(\"Lentils : {0:.2f}\".format(data[data['label'] == 'lentils'][conditions].mean()))\n",
    "    print(\"Cotton : {0:.2f}\".format(data[data['label'] == 'cotton'][conditions].mean()))\n",
    "    print(\"Maize : {0:.2f}\".format(data[data['label'] == 'Maize'][conditions].mean()))\n",
    "    print(\"Moth Beans : {0:.2f}\".format(data[data['label'] == 'mothbeans'][conditions].mean()))\n",
    "    print(\"Pigeon peas : {0:.2f}\".format(data[data['label'] == 'pigeonpeas'][conditions].mean()))\n",
    "    print(\"Mango : {0:.2f}\".format(data[data['label'] == 'mango'][conditions].mean()))\n",
    "    print(\"pomegranates : {0:.2f}\".format(data[data['label'] == 'pomegranate'][conditions].mean()))\n",
    "    print(\"Coffee : {0:.2f}\".format(data[data['label'] == 'coffee'][conditions].mean()))"
   ]
  },
  {
   "cell_type": "code",
   "execution_count": 27,
   "metadata": {},
   "outputs": [
    {
     "data": {
      "application/vnd.jupyter.widget-view+json": {
       "model_id": "a33abaeab25c461a885ae1fb9de3eedf",
       "version_major": 2,
       "version_minor": 0
      },
      "text/plain": [
       "interactive(children=(Dropdown(description='conditions', options=('N', 'P', 'k', ' temprature', 'ph', 'humidit…"
      ]
     },
     "metadata": {},
     "output_type": "display_data"
    }
   ],
   "source": [
    "# lets makes this functions more Intutive\n",
    "\n",
    "\n",
    "@interact\n",
    "def compare(conditions = ['N','P','k',' temprature','ph','humidity','rainfall']):\n",
    "    print(\"crpos which require grater than average\", conditions)\n",
    "    print(data[data[conditions]> data[conditional].mean()]['label'].unique())\n",
    "    print(\"--------------------------------------------------\")\n",
    "    print(\"crops which require less than average\",condition,'\\n')\n",
    "    print(data[data[conditions]<= data[conditions].mean()]['lebel'])"
   ]
  },
  {
   "cell_type": "code",
   "execution_count": null,
   "metadata": {},
   "outputs": [],
   "source": []
  }
 ],
 "metadata": {
  "kernelspec": {
   "display_name": "Python 3",
   "language": "python",
   "name": "python3"
  },
  "language_info": {
   "codemirror_mode": {
    "name": "ipython",
    "version": 3
   },
   "file_extension": ".py",
   "mimetype": "text/x-python",
   "name": "python",
   "nbconvert_exporter": "python",
   "pygments_lexer": "ipython3",
   "version": "3.8.5"
  }
 },
 "nbformat": 4,
 "nbformat_minor": 4
}
